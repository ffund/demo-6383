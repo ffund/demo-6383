{
 "cells": [
  {
   "cell_type": "markdown",
   "metadata": {},
   "source": [
    "## Title of experiment"
   ],
   "id": "fd300c98-0f8e-4017-b5c3-30ccc07f0416"
  },
  {
   "cell_type": "markdown",
   "metadata": {},
   "source": [
    "In this experiment, you will\n",
    "\n",
    "-   item 1\n",
    "-   item 2\n",
    "-   item 3"
   ],
   "id": "1507ec98-3d33-4187-9241-6434b8a5d892"
  },
  {
   "cell_type": "markdown",
   "metadata": {},
   "source": [
    "### Configure environment"
   ],
   "id": "1929c87c-4e58-4e5c-80db-1de796c58372"
  },
  {
   "cell_type": "code",
   "execution_count": null,
   "metadata": {},
   "outputs": [],
   "source": [
    "from fabrictestbed_extensions.fablib.fablib import FablibManager as fablib_manager\n",
    "fablib = fablib_manager() \n",
    "conf = fablib.show_config()"
   ],
   "id": "de91f3b5-a11d-4e70-9fd9-180089b70b08"
  },
  {
   "cell_type": "markdown",
   "metadata": {},
   "source": [
    "### Define configuration for this experiment"
   ],
   "id": "53091813-78f8-499b-ae11-f5cca8df1d73"
  },
  {
   "cell_type": "code",
   "execution_count": null,
   "metadata": {},
   "outputs": [],
   "source": [
    "slice_name=\"exp-6383-\" + fablib.get_bastion_username()"
   ],
   "id": "62b3142c-424f-4d6e-95ea-a2cc3b85bc86"
  },
  {
   "cell_type": "code",
   "execution_count": null,
   "metadata": {},
   "outputs": [],
   "source": [
    "site_east = 'MASS'\n",
    "site_west = 'UCSD'\n",
    "site_mid_n = 'STAR'\n",
    "site_mid_s = 'TACC'"
   ],
   "id": "2b45b96a-d476-46c2-be3c-b04797ae974a"
  },
  {
   "cell_type": "code",
   "execution_count": null,
   "metadata": {},
   "outputs": [],
   "source": [
    "node_conf = [\n",
    " {'name': \"src\", 'site': site_east, 'cores': 2, 'ram': 4, 'disk': 10, 'image': 'default_ubuntu_22', 'packages': []}, \n",
    " {'name': \"dst\", 'site': site_west, 'cores': 2, 'ram': 4, 'disk': 10, 'image': 'default_ubuntu_22', 'packages': []}, \n",
    " {'name': \"rly0\", 'site': site_mid_n, 'cores': 2, 'ram': 4, 'disk': 10, 'image': 'default_ubuntu_22', 'packages': []}, \n",
    " {'name': \"rly1\", 'site': site_mid_s, 'cores': 2, 'ram': 4, 'disk': 10, 'image': 'default_ubuntu_22', 'packages': []}\n",
    "]\n",
    "net_conf = [\n",
    " {\"name\": \"net-r0-s\", \"subnet\": \"10.0.0.0/24\",   \"nodes\": [{\"name\": \"src\",  \"addr\": \"10.0.0.100\"}, {\"name\": \"rly0\", \"addr\": \"10.0.0.1\"}]},\n",
    " {\"name\": \"net-r0-d\", \"subnet\": \"10.0.1.0/24\",   \"nodes\": [{\"name\": \"dst\",  \"addr\": \"10.0.1.101\"}, {\"name\": \"rly0\", \"addr\": \"10.0.1.1\"}]},\n",
    " {\"name\": \"net-r1-s\", \"subnet\": \"10.0.2.0/24\",   \"nodes\": [{\"name\": \"src\",  \"addr\": \"10.0.2.100\"}, {\"name\": \"rly1\", \"addr\": \"10.0.2.1\"}]},\n",
    " {\"name\": \"net-r1-d\", \"subnet\": \"10.0.3.0/24\",   \"nodes\": [{\"name\": \"dst\",  \"addr\": \"10.0.3.101\"}, {\"name\": \"rly1\", \"addr\": \"10.0.3.1\"}]},\n",
    " {\"name\": \"net-direct\", \"subnet\": \"10.0.4.0/24\", \"nodes\": [{\"name\": \"dst\",  \"addr\": \"10.0.4.101\"}, {\"name\": \"src\",  \"addr\": \"10.0.4.100\"}]}\n",
    "]\n",
    "route_conf = [\n",
    " {\"addr\": \"10.0.1.0/24\", \"gw\": \"10.0.0.1\", \"nodes\": [\"src\"]}, \n",
    " {\"addr\": \"10.0.0.0/24\", \"gw\": \"10.0.1.1\", \"nodes\": [\"dst\"]},\n",
    " {\"addr\": \"10.0.3.0/24\", \"gw\": \"10.0.2.1\", \"nodes\": [\"src\"]}, \n",
    " {\"addr\": \"10.0.2.0/24\", \"gw\": \"10.0.3.1\", \"nodes\": [\"dst\"]}\n",
    "]"
   ],
   "id": "b7083ed9-6e1f-476e-8a82-f294269c794a"
  },
  {
   "cell_type": "markdown",
   "metadata": {},
   "source": [
    "### Reserve resources\n",
    "\n",
    "Now, we are ready to reserve resources!"
   ],
   "id": "e9fddd61-7e57-4763-8b76-9afa6363cf4c"
  },
  {
   "cell_type": "markdown",
   "metadata": {},
   "source": [
    "First, make sure you don’t already have a slice with this name:"
   ],
   "id": "a72adff8-6b19-45dc-bec1-dfadd75b8537"
  },
  {
   "cell_type": "code",
   "execution_count": null,
   "metadata": {},
   "outputs": [],
   "source": [
    "try:\n",
    "    slice = fablib.get_slice(slice_name)\n",
    "    print(\"You already have a slice by this name!\")\n",
    "    print(\"If you previously reserved resources, skip to the 'log in to resources' section.\")\n",
    "except:\n",
    "    print(\"You don't have a slice named %s yet.\" % slice_name)\n",
    "    print(\"Continue to the next step to make one.\")\n",
    "    slice = fablib.new_slice(name=slice_name)"
   ],
   "id": "de2f5c8f-aa15-4212-b515-6f92df2fb7e6"
  },
  {
   "cell_type": "markdown",
   "metadata": {},
   "source": [
    "We will add hosts and network segments:"
   ],
   "id": "49bf051b-e126-46bd-ac31-7e3e92849abd"
  },
  {
   "cell_type": "code",
   "execution_count": null,
   "metadata": {},
   "outputs": [],
   "source": [
    "# this cell sets up the nodes\n",
    "for n in node_conf:\n",
    "    slice.add_node(name=n['name'], site=n['site'], \n",
    "                   cores=n['cores'], \n",
    "                   ram=n['ram'], \n",
    "                   disk=n['disk'], \n",
    "                   image=n['image'])"
   ],
   "id": "681c9bd5-7cad-4b91-be17-701070ac9f89"
  },
  {
   "cell_type": "code",
   "execution_count": null,
   "metadata": {},
   "outputs": [],
   "source": [
    "# this cell sets up the network segments\n",
    "for n in net_conf:\n",
    "    ifaces = [slice.get_node(node[\"name\"]).add_component(model=\"NIC_Basic\", \n",
    "                                                 name=n[\"name\"]).get_interfaces()[0] for node in n['nodes'] ]\n",
    "    slice.add_l2network(name=n[\"name\"], interfaces=ifaces)"
   ],
   "id": "d434e268-6465-4605-b46c-4f26d7629bb5"
  },
  {
   "cell_type": "markdown",
   "metadata": {},
   "source": [
    "The following cell submits our request to the FABRIC sites involved. The output of this cell will update automatically as the status of our request changes.\n",
    "\n",
    "-   While it is being prepared, the “State” of the slice will appear as “Configuring”.\n",
    "-   When it is ready, the “State” of the slice will change to “StableOK”.\n",
    "\n",
    "You may prefer to walk away and come back in a few minutes (for simple slices) or a few tens of minutes (for more complicated slices with many resources)."
   ],
   "id": "77514323-ebef-4f49-8d89-d8b7c47dd711"
  },
  {
   "cell_type": "code",
   "execution_count": null,
   "metadata": {},
   "outputs": [],
   "source": [
    "slice.submit()"
   ],
   "id": "7fd8a8d8-9523-4a77-a7a2-cbea60a3c5a5"
  },
  {
   "cell_type": "markdown",
   "metadata": {},
   "source": [
    "If something goes wrong, you can delete the slice from the [FABRIC web interface](https://portal.fabric-testbed.net/experiments#slices) - find this slice in your slice list, click, and delete. Then, you can start again at the beginning of this notebook, potentially using a different site(s)."
   ],
   "id": "c4a9dbec-b78d-4f4d-8c3a-996db0c4459f"
  },
  {
   "cell_type": "code",
   "execution_count": null,
   "metadata": {},
   "outputs": [],
   "source": [
    "slice.get_state()\n",
    "slice.wait_ssh(progress=True)"
   ],
   "id": "eaeda09e-3861-4f4b-b2c9-e126b4dcc199"
  },
  {
   "cell_type": "markdown",
   "metadata": {},
   "source": [
    "### Extend your slice\n",
    "\n",
    "If you don’t plan to finish an experiment in one day, you can extend your slice. The following cell extends your reservation for 7 days."
   ],
   "id": "c8de5d39-e427-403e-9f98-350d777ea9da"
  },
  {
   "cell_type": "code",
   "execution_count": null,
   "metadata": {},
   "outputs": [],
   "source": [
    "from datetime import datetime\n",
    "from datetime import timezone\n",
    "from datetime import timedelta\n",
    "\n",
    "# Set end date to 7 days from now\n",
    "end_date = (datetime.now(timezone.utc) + timedelta(days=7)).strftime(\"%Y-%m-%d %H:%M:%S %z\")\n",
    "slice.renew(end_date)"
   ],
   "id": "1295f92d-ca5b-4cbb-9f8d-ee9158ccc9ad"
  },
  {
   "cell_type": "markdown",
   "metadata": {},
   "source": [
    "### Configure resources\n",
    "\n",
    "Next, we will configure the resources so they are ready to use."
   ],
   "id": "6004ee78-1acb-4660-b420-e5ca10ae8f5f"
  },
  {
   "cell_type": "code",
   "execution_count": null,
   "metadata": {},
   "outputs": [],
   "source": [
    "slice = fablib.get_slice(name=slice_name)"
   ],
   "id": "8b228159-a948-4476-9a88-5ebdc17bbe1d"
  },
  {
   "cell_type": "code",
   "execution_count": null,
   "metadata": {},
   "outputs": [],
   "source": [
    "# install packages\n",
    "# this will take a while and will run in background while you do other steps\n",
    "for n in node_conf:\n",
    "    if len(n['packages']):\n",
    "        node = slice.get_node(n['name'])\n",
    "        pkg = \" \".join(n['packages'])\n",
    "        node.execute_thread(\"sudo apt update; sudo apt -y install %s\" % pkg)"
   ],
   "id": "b15f5e06-861d-4284-bf7d-5c8c4b975e94"
  },
  {
   "cell_type": "code",
   "execution_count": null,
   "metadata": {},
   "outputs": [],
   "source": [
    "# bring interfaces up and either assign an address (if there is one) or flush address\n",
    "from ipaddress import ip_address, IPv4Address, IPv4Network\n",
    "\n",
    "for net in net_conf:\n",
    "    for n in net['nodes']:\n",
    "        if_name = n['name'] + '-' + net['name'] + '-p1'\n",
    "        iface = slice.get_interface(if_name)\n",
    "        iface.ip_link_up()\n",
    "        if n['addr']:\n",
    "            iface.ip_addr_add(addr=n['addr'], subnet=IPv4Network(net['subnet']))\n",
    "        else:\n",
    "            iface.get_node().execute(\"sudo ip addr flush dev %s\"  % iface.get_device_name())"
   ],
   "id": "715bfb2c-b6bd-4703-ac4e-34c3e9ffc79f"
  },
  {
   "cell_type": "code",
   "execution_count": null,
   "metadata": {},
   "outputs": [],
   "source": [
    "# prepare a \"hosts\" file that has names and addresses of every node\n",
    "hosts_txt = [ \"%s\\t%s\" % ( n['addr'], n['name'] ) for net in net_conf  for n in net['nodes'] if type(n) is dict and n['addr']]\n",
    "for n in slice.get_nodes():\n",
    "    for h in hosts_txt:\n",
    "        n.execute(\"echo %s | sudo tee -a /etc/hosts\" % h)"
   ],
   "id": "6efd8a42-412e-4af9-adc5-d00becac0d79"
  },
  {
   "cell_type": "code",
   "execution_count": null,
   "metadata": {},
   "outputs": [],
   "source": [
    "# enable IPv4 forwarding on all nodes\n",
    "for n in slice.get_nodes():\n",
    "    n.execute(\"sudo sysctl -w net.ipv4.ip_forward=1\")"
   ],
   "id": "6935179f-a9be-4ca2-80d9-3bd96a2e019b"
  },
  {
   "cell_type": "code",
   "execution_count": null,
   "metadata": {},
   "outputs": [],
   "source": [
    "# set up static routes\n",
    "for rt in route_conf:\n",
    "    for n in rt['nodes']:\n",
    "        slice.get_node(name=n).ip_route_add(subnet=IPv4Network(rt['addr']), gateway=rt['gw'])"
   ],
   "id": "0e889ad1-1673-4d76-80d3-42fed17fe3ba"
  },
  {
   "cell_type": "markdown",
   "metadata": {},
   "source": [
    "### Draw the network topology"
   ],
   "id": "54ed0484-090f-41c0-92ba-4cfa718a89ef"
  },
  {
   "cell_type": "markdown",
   "metadata": {},
   "source": [
    "The following cell will draw the network topology, for your reference. The interface name and addresses of each experiment interface will be shown on the drawing."
   ],
   "id": "b82b0ec5-a19d-4ebe-bfa4-b865540b1366"
  },
  {
   "cell_type": "code",
   "execution_count": null,
   "metadata": {},
   "outputs": [],
   "source": [
    "l2_nets = [(n.get_name(), {'label': n.get_name(), 'color': 'lavender'}) for n in slice.get_l2networks() ]\n",
    "l3_nets = [(n.get_name(), {'label': n.get_name(), 'color': 'pink'}) for n in slice.get_l3networks() ]\n",
    "hosts   =   [(n.get_name(), {'label': n.get_name() + '\\n' + n.get_site(), 'color': 'lightblue'}) for n in slice.get_nodes()]\n",
    "nodes = l2_nets + l3_nets + hosts\n",
    "ifaces = [iface.toDict() for iface in slice.get_interfaces()]\n",
    "edges = [(iface['network'], iface['node'], \n",
    "          {'label': iface['physical_dev'] + '\\n' + iface['ip_addr'] + '\\n' + iface['mac']}) for iface in ifaces]"
   ],
   "id": "34e47faa-4378-461c-928e-848e034fd2f5"
  },
  {
   "cell_type": "code",
   "execution_count": null,
   "metadata": {},
   "outputs": [],
   "source": [
    "import networkx as nx\n",
    "import matplotlib.pyplot as plt\n",
    "plt.figure(figsize=(len(nodes),len(nodes)))\n",
    "G = nx.Graph()\n",
    "G.add_nodes_from(nodes)\n",
    "G.add_edges_from(edges)\n",
    "pos = nx.spring_layout(G)\n",
    "nx.draw(G, pos, node_shape='s',  \n",
    "        node_color=[n[1]['color'] for n in nodes], \n",
    "        node_size=2000,  \n",
    "        with_labels=False);\n",
    "nx.draw_networkx_edge_labels(G,pos,\n",
    "                             edge_labels=nx.get_edge_attributes(G,'label'),\n",
    "                             font_color='gray',  font_size=10, rotate=False);\n",
    "nx.draw_networkx_labels(G,pos,\n",
    "                             labels=nx.get_node_attributes(G,'label'),\n",
    "                             font_color='black',  font_size=12);"
   ],
   "id": "ad9c858f-b8e7-4fe4-84bf-d1922941eb1f"
  },
  {
   "cell_type": "markdown",
   "metadata": {},
   "source": [
    "### Log into resources"
   ],
   "id": "ec74ce1a-026a-4c9f-ab7c-730f514f1310"
  },
  {
   "cell_type": "markdown",
   "metadata": {},
   "source": [
    "Now, we are finally ready to log in to our resources over SSH! Run the following cells, and observe the table output - you will see an SSH command for each of the resources in your topology."
   ],
   "id": "57cbf715-ff88-40c5-8282-0af9db685847"
  },
  {
   "cell_type": "code",
   "execution_count": null,
   "metadata": {},
   "outputs": [],
   "source": [
    "import pandas as pd\n",
    "pd.set_option('display.max_colwidth', None)\n",
    "slice_info = [{'Name': n.get_name(), 'SSH command': n.get_ssh_command()} for n in slice.get_nodes()]\n",
    "pd.DataFrame(slice_info).set_index('Name')"
   ],
   "id": "89e6871b-efb5-42f6-866c-9442b6518a7e"
  },
  {
   "cell_type": "markdown",
   "metadata": {},
   "source": [
    "Now, you can open an SSH session on any of the resources as follows:\n",
    "\n",
    "-   in Jupyter, from the menu bar, use File \\> New \\> Terminal to open a new terminal.\n",
    "-   copy an SSH command from the table, and paste it into the terminal. (Note that each SSH command is a single line, even if the display wraps the text to a second line! When you copy and paste it, paste it all together.)\n",
    "\n",
    "You can repeat this process (open several terminals) to start a session on each resource. Each terminal session will have a tab in the Jupyter environment, so that you can easily switch between them."
   ],
   "id": "536a7323-f06c-4437-be25-c7e9e43d22c4"
  },
  {
   "cell_type": "markdown",
   "metadata": {},
   "source": [
    "### Execute the experiment"
   ],
   "id": "dc3c9d49-c4f1-41d9-a2ad-d4ae14c5731c"
  },
  {
   "cell_type": "markdown",
   "metadata": {},
   "source": [
    "Now that your resources are ready to use, you can start to execute the experiment. First, you will…"
   ],
   "id": "583d4cf4-bb1c-49b4-bd0c-11d2377578df"
  },
  {
   "cell_type": "markdown",
   "metadata": {},
   "source": [
    "### Delete your slice"
   ],
   "id": "91370bd3-e6ff-466c-b557-f695e4672344"
  },
  {
   "cell_type": "markdown",
   "metadata": {},
   "source": [
    "When you finish your experiment, you should delete your slice! The following cells deletes all the resources in your slice, freeing them for other experimenters."
   ],
   "id": "5f91fed7-0df6-4aa7-864e-c5b559cda372"
  },
  {
   "cell_type": "code",
   "execution_count": null,
   "metadata": {},
   "outputs": [],
   "source": [
    "slice = fablib.get_slice(name=slice_name)\n",
    "fablib.delete_slice(slice_name)"
   ],
   "id": "d63d0013-01bd-417e-abac-70b1d5d09268"
  },
  {
   "cell_type": "code",
   "execution_count": null,
   "metadata": {},
   "outputs": [],
   "source": [
    "# slice should end up in \"Dead\" state\n",
    "# re-run this cell until you see it in \"Dead\" state\n",
    "slice.update()\n",
    "_ = slice.show()"
   ],
   "id": "c0730432-4dee-4858-8541-c42434bdb8a6"
  }
 ],
 "nbformat": 4,
 "nbformat_minor": 5,
 "metadata": {}
}
