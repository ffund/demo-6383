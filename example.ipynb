{
 "cells": [
  {
   "cell_type": "markdown",
   "metadata": {},
   "source": [
    "## Title of experiment"
   ],
   "id": "fa5ae30e-7429-4410-960d-dcf44435e25d"
  },
  {
   "cell_type": "markdown",
   "metadata": {},
   "source": [
    "In this experiment, you will \\* item 1 \\* item 2 \\* item 3"
   ],
   "id": "213e488e-de46-427a-b2d9-9e2ed33dffea"
  },
  {
   "cell_type": "markdown",
   "metadata": {},
   "source": [
    "### Configure environment"
   ],
   "id": "093c7f9d-67a1-41ec-861e-73500dcdcbbb"
  },
  {
   "cell_type": "code",
   "execution_count": null,
   "metadata": {},
   "outputs": [],
   "source": [
    "from fabrictestbed_extensions.fablib.fablib import FablibManager as fablib_manager\n",
    "fablib = fablib_manager() \n",
    "conf = fablib.show_config()"
   ],
   "id": "3c8cb056-0e96-4d61-9bec-1fb1dfe86214"
  },
  {
   "cell_type": "markdown",
   "metadata": {},
   "source": [
    "### Define configuration for this experiment"
   ],
   "id": "22e877fb-11f8-4c61-9879-b550559df80b"
  },
  {
   "cell_type": "code",
   "execution_count": null,
   "metadata": {},
   "outputs": [],
   "source": [
    "slice_name=\"exp-6383-\" + fablib.get_bastion_username()"
   ],
   "id": "abef09de-c022-4742-a3a3-735fecacfa99"
  },
  {
   "cell_type": "code",
   "execution_count": null,
   "metadata": {},
   "outputs": [],
   "source": [
    "site_east = 'MASS'\n",
    "site_west = 'UCSD'\n",
    "site_mid_n = 'STAR'\n",
    "site_mid_s = 'TACC'"
   ],
   "id": "a6d194c7-7ead-411d-8d10-a03e55c77285"
  },
  {
   "cell_type": "code",
   "execution_count": null,
   "metadata": {},
   "outputs": [],
   "source": [
    "node_conf = [\n",
    " {'name': \"src\", 'site': site_east, 'cores': 2, 'ram': 4, 'disk': 10, 'image': 'default_ubuntu_22', 'packages': []}, \n",
    " {'name': \"dst\", 'site': site_west, 'cores': 2, 'ram': 4, 'disk': 10, 'image': 'default_ubuntu_22', 'packages': []}, \n",
    " {'name': \"rly0\", 'site': site_mid_n, 'cores': 2, 'ram': 4, 'disk': 10, 'image': 'default_ubuntu_22', 'packages': []}, \n",
    " {'name': \"rly1\", 'site': site_mid_s, 'cores': 2, 'ram': 4, 'disk': 10, 'image': 'default_ubuntu_22', 'packages': []}\n",
    "]\n",
    "net_conf = [\n",
    " {\"name\": \"net-r0-s\", \"subnet\": \"10.0.0.0/24\",   \"nodes\": [{\"name\": \"src\",  \"addr\": \"10.0.0.100\"}, {\"name\": \"rly0\", \"addr\": \"10.0.0.1\"}]},\n",
    " {\"name\": \"net-r0-d\", \"subnet\": \"10.0.1.0/24\",   \"nodes\": [{\"name\": \"dst\",  \"addr\": \"10.0.1.101\"}, {\"name\": \"rly0\", \"addr\": \"10.0.1.1\"}]},\n",
    " {\"name\": \"net-r1-s\", \"subnet\": \"10.0.2.0/24\",   \"nodes\": [{\"name\": \"src\",  \"addr\": \"10.0.2.100\"}, {\"name\": \"rly1\", \"addr\": \"10.0.2.1\"}]},\n",
    " {\"name\": \"net-r1-d\", \"subnet\": \"10.0.3.0/24\",   \"nodes\": [{\"name\": \"dst\",  \"addr\": \"10.0.3.101\"}, {\"name\": \"rly1\", \"addr\": \"10.0.3.1\"}]},\n",
    " {\"name\": \"net-direct\", \"subnet\": \"10.0.4.0/24\", \"nodes\": [{\"name\": \"dst\",  \"addr\": \"10.0.4.101\"}, {\"name\": \"src\",  \"addr\": \"10.0.4.100\"}]}\n",
    "]\n",
    "route_conf = [\n",
    " {\"addr\": \"10.0.1.0/24\", \"gw\": \"10.0.0.1\", \"nodes\": [\"src\"]}, \n",
    " {\"addr\": \"10.0.0.0/24\", \"gw\": \"10.0.1.1\", \"nodes\": [\"dst\"]},\n",
    " {\"addr\": \"10.0.3.0/24\", \"gw\": \"10.0.2.1\", \"nodes\": [\"src\"]}, \n",
    " {\"addr\": \"10.0.2.0/24\", \"gw\": \"10.0.3.1\", \"nodes\": [\"dst\"]}\n",
    "]"
   ],
   "id": "1bb9a0ff-7804-4192-a3f1-0c30fdd2f3f0"
  },
  {
   "cell_type": "markdown",
   "metadata": {},
   "source": [
    "### Reserve resources\n",
    "\n",
    "Now, we are ready to reserve resources!"
   ],
   "id": "37f9223d-3c5c-4299-8395-21deddf45a66"
  },
  {
   "cell_type": "markdown",
   "metadata": {},
   "source": [
    "First, make sure you don’t already have a slice with this name:"
   ],
   "id": "60b4a113-e9c7-425f-8ae5-847f17b7b0ac"
  },
  {
   "cell_type": "code",
   "execution_count": null,
   "metadata": {},
   "outputs": [],
   "source": [
    "try:\n",
    "    slice = fablib.get_slice(slice_name)\n",
    "    print(\"You already have a slice by this name!\")\n",
    "    print(\"If you previously reserved resources, skip to the 'log in to resources' section.\")\n",
    "except:\n",
    "    print(\"You don't have a slice named %s yet.\" % slice_name)\n",
    "    print(\"Continue to the next step to make one.\")\n",
    "    slice = fablib.new_slice(name=slice_name)"
   ],
   "id": "5f24718c-9e47-4081-9127-ec1bf2302dc9"
  },
  {
   "cell_type": "markdown",
   "metadata": {},
   "source": [
    "We will add hosts and network segments:"
   ],
   "id": "c2901eb1-6fae-4ef9-a1df-0b601c595e69"
  },
  {
   "cell_type": "code",
   "execution_count": null,
   "metadata": {},
   "outputs": [],
   "source": [
    "# this cell sets up the nodes\n",
    "for n in node_conf:\n",
    "    slice.add_node(name=n['name'], site=n['site'], \n",
    "                   cores=n['cores'], \n",
    "                   ram=n['ram'], \n",
    "                   disk=n['disk'], \n",
    "                   image=n['image'])"
   ],
   "id": "526ecc57-d537-4a1e-9232-425aa10d6815"
  },
  {
   "cell_type": "code",
   "execution_count": null,
   "metadata": {},
   "outputs": [],
   "source": [
    "# this cell sets up the network segments\n",
    "for n in net_conf:\n",
    "    ifaces = [slice.get_node(node[\"name\"]).add_component(model=\"NIC_Basic\", \n",
    "                                                 name=n[\"name\"]).get_interfaces()[0] for node in n['nodes'] ]\n",
    "    slice.add_l2network(name=n[\"name\"], interfaces=ifaces)"
   ],
   "id": "d0eb84b5-941b-4b57-9451-d45f3a309d0a"
  },
  {
   "cell_type": "markdown",
   "metadata": {},
   "source": [
    "The following cell submits our request to the FABRIC sites involved. The output of this cell will update automatically as the status of our request changes.\n",
    "\n",
    "-   While it is being prepared, the “State” of the slice will appear as “Configuring”.\n",
    "-   When it is ready, the “State” of the slice will change to “StableOK”.\n",
    "\n",
    "You may prefer to walk away and come back in a few minutes (for simple slices) or a few tens of minutes (for more complicated slices with many resources)."
   ],
   "id": "17a6edcb-5108-4fdb-825f-52c9703fdf11"
  },
  {
   "cell_type": "code",
   "execution_count": null,
   "metadata": {},
   "outputs": [],
   "source": [
    "slice.submit()"
   ],
   "id": "60cca038-8ec8-43a1-a466-4615123c6528"
  },
  {
   "cell_type": "code",
   "execution_count": null,
   "metadata": {},
   "outputs": [],
   "source": [
    "slice.get_state()\n",
    "slice.wait_ssh(progress=True)"
   ],
   "id": "a3e062e2-e4ad-4ae6-818c-fc3b087cc52e"
  },
  {
   "cell_type": "markdown",
   "metadata": {},
   "source": [
    "### Extend your slice\n",
    "\n",
    "If you don’t plan to finish an experiment in one day, you can extend your slice. The following cell extends your reservation for 7 days."
   ],
   "id": "6a14af4d-1abb-4e5d-bda6-5a0ac90070c0"
  },
  {
   "cell_type": "code",
   "execution_count": null,
   "metadata": {},
   "outputs": [],
   "source": [
    "from datetime import datetime\n",
    "from datetime import timezone\n",
    "from datetime import timedelta\n",
    "\n",
    "# Set end date to 7 days from now\n",
    "end_date = (datetime.now(timezone.utc) + timedelta(days=7)).strftime(\"%Y-%m-%d %H:%M:%S %z\")\n",
    "slice.renew(end_date)"
   ],
   "id": "ce609de9-b39b-4f07-9763-f9e3f12efb55"
  },
  {
   "cell_type": "markdown",
   "metadata": {},
   "source": [
    "### Configure resources\n",
    "\n",
    "Next, we will configure the resources so they are ready to use."
   ],
   "id": "0710ae8a-741f-4d67-af52-310681fbae16"
  },
  {
   "cell_type": "code",
   "execution_count": null,
   "metadata": {},
   "outputs": [],
   "source": [
    "slice = fablib.get_slice(name=slice_name)"
   ],
   "id": "40a394b9-0333-4cf9-b178-7b1ba99726c4"
  },
  {
   "cell_type": "code",
   "execution_count": null,
   "metadata": {},
   "outputs": [],
   "source": [
    "# install packages\n",
    "# this will take a while and will run in background while you do other steps\n",
    "for n in node_conf:\n",
    "    if len(n['packages']):\n",
    "        node = slice.get_node(n['name'])\n",
    "        pkg = \" \".join(n['packages'])\n",
    "        node.execute_thread(\"sudo apt update; sudo apt -y install %s\" % pkg)"
   ],
   "id": "de3e4c42-e913-4950-927e-e4c126e3d269"
  },
  {
   "cell_type": "code",
   "execution_count": null,
   "metadata": {},
   "outputs": [],
   "source": [
    "# bring interfaces up and either assign an address (if there is one) or flush address\n",
    "from ipaddress import ip_address, IPv4Address, IPv4Network\n",
    "\n",
    "for net in net_conf:\n",
    "    for n in net['nodes']:\n",
    "        if_name = n['name'] + '-' + net['name'] + '-p1'\n",
    "        iface = slice.get_interface(if_name)\n",
    "        iface.ip_link_up()\n",
    "        if n['addr']:\n",
    "            iface.ip_addr_add(addr=n['addr'], subnet=IPv4Network(net['subnet']))\n",
    "        else:\n",
    "            iface.get_node().execute(\"sudo ip addr flush dev %s\"  % iface.get_device_name())"
   ],
   "id": "ae7119f9-f6c2-4f42-b5cf-3e429117b596"
  },
  {
   "cell_type": "code",
   "execution_count": null,
   "metadata": {},
   "outputs": [],
   "source": [
    "# prepare a \"hosts\" file that has names and addresses of every node\n",
    "hosts_txt = [ \"%s\\t%s\" % ( n['addr'], n['name'] ) for net in net_conf  for n in net['nodes'] if type(n) is dict and n['addr']]\n",
    "for n in slice.get_nodes():\n",
    "    for h in hosts_txt:\n",
    "        n.execute(\"echo %s | sudo tee -a /etc/hosts\" % h)"
   ],
   "id": "58e0fae5-ed42-411a-a452-a16951dcde25"
  },
  {
   "cell_type": "code",
   "execution_count": null,
   "metadata": {},
   "outputs": [],
   "source": [
    "# enable IPv4 forwarding on all nodes\n",
    "for n in slice.get_nodes():\n",
    "    n.execute(\"sudo sysctl -w net.ipv4.ip_forward=1\")"
   ],
   "id": "47344f9a-3562-4f2e-8622-907fb62cdc79"
  },
  {
   "cell_type": "code",
   "execution_count": null,
   "metadata": {},
   "outputs": [],
   "source": [
    "# set up static routes\n",
    "for rt in route_conf:\n",
    "    for n in rt['nodes']:\n",
    "        slice.get_node(name=n).ip_route_add(subnet=IPv4Network(rt['addr']), gateway=rt['gw'])"
   ],
   "id": "444d3bda-dcd2-4fe3-a1b6-40d62ad4474c"
  },
  {
   "cell_type": "markdown",
   "metadata": {},
   "source": [
    "### Draw the network topology"
   ],
   "id": "c6321f73-fcfd-4232-8b63-57c54af5098b"
  },
  {
   "cell_type": "markdown",
   "metadata": {},
   "source": [
    "The following cell will draw the network topology, for your reference. The interface name and addresses of each experiment interface will be shown on the drawing."
   ],
   "id": "225b6ed0-5ba1-44d5-9ce5-1b6a820af90e"
  },
  {
   "cell_type": "code",
   "execution_count": null,
   "metadata": {},
   "outputs": [],
   "source": [
    "l2_nets = [(n.get_name(), {'label': n.get_name(), 'color': 'lavender'}) for n in slice.get_l2networks() ]\n",
    "l3_nets = [(n.get_name(), {'label': n.get_name(), 'color': 'pink'}) for n in slice.get_l3networks() ]\n",
    "hosts   =   [(n.get_name(), {'label': n.get_name() + '\\n' + n.get_site(), 'color': 'lightblue'}) for n in slice.get_nodes()]\n",
    "nodes = l2_nets + l3_nets + hosts\n",
    "ifaces = [iface.toDict() for iface in slice.get_interfaces()]\n",
    "edges = [(iface['network'], iface['node'], \n",
    "          {'label': iface['physical_dev'] + '\\n' + iface['ip_addr'] + '\\n' + iface['mac']}) for iface in ifaces]"
   ],
   "id": "1ba8715b-0fd6-4b4d-a627-99732241a4a6"
  },
  {
   "cell_type": "code",
   "execution_count": null,
   "metadata": {},
   "outputs": [],
   "source": [
    "import networkx as nx\n",
    "import matplotlib.pyplot as plt\n",
    "plt.figure(figsize=(len(nodes),len(nodes)))\n",
    "G = nx.Graph()\n",
    "G.add_nodes_from(nodes)\n",
    "G.add_edges_from(edges)\n",
    "pos = nx.spring_layout(G)\n",
    "nx.draw(G, pos, node_shape='s',  \n",
    "        node_color=[n[1]['color'] for n in nodes], \n",
    "        node_size=2000,  \n",
    "        with_labels=False);\n",
    "nx.draw_networkx_edge_labels(G,pos,\n",
    "                             edge_labels=nx.get_edge_attributes(G,'label'),\n",
    "                             font_color='gray',  font_size=10, rotate=False);\n",
    "nx.draw_networkx_labels(G,pos,\n",
    "                             labels=nx.get_node_attributes(G,'label'),\n",
    "                             font_color='black',  font_size=12);"
   ],
   "id": "3f1dcb5c-602c-496d-b484-9cf58796bbab"
  },
  {
   "cell_type": "markdown",
   "metadata": {},
   "source": [
    "### Log into resources"
   ],
   "id": "643a8feb-10e0-4b2a-9acf-722fcc37b47c"
  },
  {
   "cell_type": "markdown",
   "metadata": {},
   "source": [
    "Now, we are finally ready to log in to our resources over SSH! Run the following cells, and observe the table output - you will see an SSH command for each of the resources in your topology."
   ],
   "id": "547f8470-3aeb-42d9-a344-b46f7169fadf"
  },
  {
   "cell_type": "code",
   "execution_count": null,
   "metadata": {},
   "outputs": [],
   "source": [
    "import pandas as pd\n",
    "pd.set_option('display.max_colwidth', None)\n",
    "slice_info = [{'Name': n.get_name(), 'SSH command': n.get_ssh_command()} for n in slice.get_nodes()]\n",
    "pd.DataFrame(slice_info).set_index('Name')"
   ],
   "id": "a88a2e6b-de56-4dff-8e83-98f7786ae883"
  },
  {
   "cell_type": "markdown",
   "metadata": {},
   "source": [
    "Now, you can open an SSH session on any of the resources as follows:\n",
    "\n",
    "-   in Jupyter, from the menu bar, use File \\> New \\> Terminal to open a new terminal.\n",
    "-   copy an SSH command from the table, and paste it into the terminal. (Note that each SSH command is a single line, even if the display wraps the text to a second line! When you copy and paste it, paste it all together.)\n",
    "\n",
    "You can repeat this process (open several terminals) to start a session on each resource. Each terminal session will have a tab in the Jupyter environment, so that you can easily switch between them."
   ],
   "id": "06ea9c1a-19de-4130-9a13-cf4fbd2a8781"
  },
  {
   "cell_type": "markdown",
   "metadata": {},
   "source": [
    "### Execute the experiment"
   ],
   "id": "d5208acc-4a56-4976-ac29-eab8c1990c15"
  },
  {
   "cell_type": "markdown",
   "metadata": {},
   "source": [
    "Now that your resources are ready to use, you can start to execute the experiment. First, you will…"
   ],
   "id": "5177d56b-a382-40a3-ae07-ec6bf358ce62"
  },
  {
   "cell_type": "markdown",
   "metadata": {},
   "source": [
    "### Delete your slice"
   ],
   "id": "c3458833-9e0a-47b7-a554-d6a5551f52b4"
  },
  {
   "cell_type": "markdown",
   "metadata": {},
   "source": [
    "When you finish your experiment, you should delete your slice! The following cells deletes all the resources in your slice, freeing them for other experimenters."
   ],
   "id": "25c09763-fded-4287-810a-9e4c423294fd"
  },
  {
   "cell_type": "code",
   "execution_count": null,
   "metadata": {},
   "outputs": [],
   "source": [
    "slice = fablib.get_slice(name=slice_name)\n",
    "fablib.delete_slice(slice_name)"
   ],
   "id": "6463bebe-7785-4897-a081-70cba14890d4"
  },
  {
   "cell_type": "code",
   "execution_count": null,
   "metadata": {},
   "outputs": [],
   "source": [
    "# slice should end up in \"Dead\" state\n",
    "# re-run this cell until you see it in \"Dead\" state\n",
    "slice.update()\n",
    "_ = slice.show()"
   ],
   "id": "61277ac6-11a6-4fbd-a726-02d09848f14b"
  }
 ],
 "nbformat": 4,
 "nbformat_minor": 5,
 "metadata": {}
}
